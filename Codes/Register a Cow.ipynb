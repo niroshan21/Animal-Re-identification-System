{
 "cells": [
  {
   "cell_type": "code",
   "execution_count": 15,
   "metadata": {},
   "outputs": [],
   "source": [
    "import timm\n",
    "import torch\n",
    "import torchvision.transforms as T\n",
    "import numpy as np\n",
    "from PIL import Image\n",
    "from sklearn.metrics.pairwise import cosine_similarity\n",
    "import gdown\n",
    "import os\n",
    "import pickle\n",
    "\n",
    "# Load the pre-trained animal re-identification model\n",
    "model = timm.create_model(\"hf-hub:BVRA/MegaDescriptor-S-224\", pretrained=True)\n",
    "model = model.eval()  # Set the model to evaluation mode\n",
    "\n",
    "# Define the transformation pipeline for input images\n",
    "train_transforms = T.Compose([\n",
    "    T.Resize((224, 224)), \n",
    "    T.ToTensor(), \n",
    "    T.Normalize([0.5, 0.5, 0.5], [0.5, 0.5, 0.5])\n",
    "])\n",
    "\n",
    "# Function to extract features from an image file path\n",
    "def extract_features(image_path):\n",
    "    img = Image.open(image_path)  # Load image from file path\n",
    "    img_transformed = train_transforms(img)  # Apply transformations\n",
    "    img_features = model(img_transformed.unsqueeze(0))  # Extract features\n",
    "    return img_features.detach().numpy()  # Convert to numpy array\n",
    "\n",
    "# Dummy known animal feature list and information list\n",
    "known_animal_features = np.load('Feature CSV/known_animal_features.npy')  # Initially empty array for features\n",
    "#animal_info_list = []  # Initially empty list for animal info\n",
    "\n",
    "# Load the list from the file\n",
    "with open('Feature CSV/animal_info_list.pkl', 'rb') as f:\n",
    "    animal_info_list = pickle.load(f)\n",
    "\n",
    "# Function to download image from Google Drive\n",
    "def download_image_from_drive(drive_url):\n",
    "    # Convert Google Drive link to direct download link\n",
    "    #https://drive.google.com/open?id=1KJ6kpya6UzhxteN-kIhg6mITvk_ekBnj\n",
    "    file_id = drive_url.split('=')[1]\n",
    "    direct_link = f'https://drive.google.com/uc?id={file_id}'\n",
    "    output_path = f'Test Images/Registered Cows/{file_id}.jpg'  # Save as a JPEG file (or appropriate format)\n",
    "    gdown.download(direct_link, output_path, quiet=False)\n",
    "    return output_path\n",
    "\n",
    "# Function to add a new animal to the known list\n",
    "def add_animal(drive_links, name, owner, refnum):\n",
    "    # Download images and extract features\n",
    "    features_list = []\n",
    "    for link in drive_links:\n",
    "        image_path = download_image_from_drive(link)  # Download image\n",
    "        features_list.append(extract_features(image_path))  # Extract features\n",
    "        \n",
    "    avg_features = np.mean(features_list, axis=0)  # Average the features\n",
    "    \n",
    "    # Update the known features list\n",
    "    global known_animal_features\n",
    "    if known_animal_features.size == 0:\n",
    "        known_animal_features = avg_features\n",
    "    else:\n",
    "        known_animal_features = np.vstack((known_animal_features, avg_features))\n",
    "    \n",
    "    # Update the animal information list\n",
    "    animal_info_list.append({\n",
    "        'name': name,\n",
    "        'owner': owner,\n",
    "        'refnum' : refnum\n",
    "    })\n",
    "    print(f\"Added animal: {name}, Owner: {owner}, Reference Number: {refnum}\")"
   ]
  },
  {
   "cell_type": "code",
   "execution_count": 16,
   "metadata": {},
   "outputs": [
    {
     "name": "stdout",
     "output_type": "stream",
     "text": [
      "Found 'REF20240925234222' at row: 10\n"
     ]
    }
   ],
   "source": [
    "#Write Python Code to Access Google Sheets\n",
    "#Import Libraries and Set Up Authentication:\n",
    "import gspread\n",
    "from oauth2client.service_account import ServiceAccountCredentials\n",
    "\n",
    "#Set Up the Google Sheets API Client:\n",
    "\n",
    "# Define the scope\n",
    "scope = ['https://spreadsheets.google.com/feeds', 'https://www.googleapis.com/auth/drive']\n",
    "\n",
    "# Load the service account credentials\n",
    "creds = ServiceAccountCredentials.from_json_keyfile_name('D:/5 th Semester/Image Processing and Machine Vision/Project/Google Cloud Console/animal-re-identification-ae729ae62110.json', scope)\n",
    "\n",
    "# Authorize the client\n",
    "client = gspread.authorize(creds)\n",
    "\n",
    "#Open the Google Sheet:\n",
    "# Open the sheet by name or by URL\n",
    "sheet = client.open(\"Cow Re-Identification\").sheet1  # Use .sheet1 to access the first sheet\n",
    "\n",
    "# Define the column to search (e.g., Column A corresponds to index 1)\n",
    "column_index = 2  # Adjust for the column you want to search\n",
    "search_value = input(\"Enter your reference number: \")  # Replace with the content you're searching for\n",
    "\n",
    "# Get all values in the specified column\n",
    "column_values = sheet.col_values(column_index)\n",
    "\n",
    "# Search for the value and get the row index\n",
    "try:\n",
    "    row_index = column_values.index(search_value) + 1  # Adding 1 because list indices start at 0\n",
    "    print(f\"Found '{search_value}' at row: {row_index}\")\n",
    "except ValueError:\n",
    "    print(f\"'{search_value}' not found in column {column_index}.\")\n",
    "\n",
    "\n",
    "\n",
    "cell_value = sheet.cell(row_index, 6).value\n",
    "# Split the string into a list using the comma as a separator\n",
    "new_animal_links = cell_value.split(\", \")\n",
    "\n",
    "name = sheet.cell(row_index, 5).value\n",
    "owner = sheet.cell(row_index, 3).value\n",
    "ref = sheet.cell(row_index, 2).value"
   ]
  },
  {
   "cell_type": "code",
   "execution_count": 17,
   "metadata": {},
   "outputs": [
    {
     "name": "stderr",
     "output_type": "stream",
     "text": [
      "Downloading...\n",
      "From: https://drive.google.com/uc?id=1k9BIvwwuj7ooHji5HJzVfv0Hs4rzQWP9\n",
      "To: d:\\5 th Semester\\Image Processing and Machine Vision\\Project\\VSCode\\Test Images\\Registered Cows\\1k9BIvwwuj7ooHji5HJzVfv0Hs4rzQWP9.jpg\n",
      "100%|██████████| 56.7k/56.7k [00:00<00:00, 335kB/s]\n"
     ]
    },
    {
     "name": "stdout",
     "output_type": "stream",
     "text": [
      "Added animal: Mashi, Owner: Ravindu, Reference Number: REF20240925234222\n"
     ]
    }
   ],
   "source": [
    "add_animal(new_animal_links, name, owner, ref)"
   ]
  },
  {
   "cell_type": "code",
   "execution_count": 18,
   "metadata": {},
   "outputs": [
    {
     "name": "stdout",
     "output_type": "stream",
     "text": [
      "Your Cow Regisrtation is Sucessfull...\n"
     ]
    }
   ],
   "source": [
    "# Save the array to a file\n",
    "np.save('Feature CSV/known_animal_features.npy', known_animal_features)\n",
    "\n",
    "# Save the list to a file\n",
    "with open('Feature CSV/animal_info_list.pkl', 'wb') as f:\n",
    "    pickle.dump(animal_info_list, f)\n",
    "\n",
    "print('Your Cow Regisrtation is Sucessfull...')"
   ]
  },
  {
   "cell_type": "code",
   "execution_count": 19,
   "metadata": {},
   "outputs": [
    {
     "data": {
      "text/plain": [
       "[{'name': 'Konda Suddi', 'owner': 'Rajitha Niroshan'},\n",
       " {'name': 'Konda Suddi',\n",
       "  'owner': 'Rajitha Niroshan',\n",
       "  'refnum': 'REF20240921053116'},\n",
       " {'name': 'Mashi', 'owner': 'Ravindu', 'refnum': 'REF20240925234222'}]"
      ]
     },
     "execution_count": 19,
     "metadata": {},
     "output_type": "execute_result"
    }
   ],
   "source": [
    "animal_info_list"
   ]
  }
 ],
 "metadata": {
  "kernelspec": {
   "display_name": "tfodj",
   "language": "python",
   "name": "tfodj"
  },
  "language_info": {
   "codemirror_mode": {
    "name": "ipython",
    "version": 3
   },
   "file_extension": ".py",
   "mimetype": "text/x-python",
   "name": "python",
   "nbconvert_exporter": "python",
   "pygments_lexer": "ipython3",
   "version": "3.10.5"
  }
 },
 "nbformat": 4,
 "nbformat_minor": 2
}
