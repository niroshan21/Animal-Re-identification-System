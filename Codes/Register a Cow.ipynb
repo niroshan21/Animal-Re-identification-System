{
 "cells": [
  {
   "cell_type": "code",
   "execution_count": 13,
   "metadata": {},
   "outputs": [],
   "source": [
    "import timm\n",
    "import torch\n",
    "import torchvision.transforms as T\n",
    "import numpy as np\n",
    "from PIL import Image\n",
    "from sklearn.metrics.pairwise import cosine_similarity\n",
    "import gdown\n",
    "import os\n",
    "import pickle\n",
    "\n",
    "# Load the pre-trained animal re-identification model\n",
    "model = timm.create_model(\"hf-hub:BVRA/MegaDescriptor-S-224\", pretrained=True)\n",
    "model = model.eval()  # Set the model to evaluation mode\n",
    "\n",
    "# Define the transformation pipeline for input images\n",
    "train_transforms = T.Compose([\n",
    "    T.Resize((224, 224)), \n",
    "    T.ToTensor(), \n",
    "    T.Normalize([0.5, 0.5, 0.5], [0.5, 0.5, 0.5])\n",
    "])\n",
    "\n",
    "# Function to extract features from an image file path\n",
    "def extract_features(image_path):\n",
    "    img = Image.open(image_path)  # Load image from file path\n",
    "    img_transformed = train_transforms(img)  # Apply transformations\n",
    "    img_features = model(img_transformed.unsqueeze(0))  # Extract features\n",
    "    return img_features.detach().numpy()  # Convert to numpy array\n",
    "\n",
    "# Dummy known animal feature list and information list\n",
    "known_animal_features = np.load('Feature CSV/known_animal_features.npy')  # Initially empty array for features\n",
    "#animal_info_list = []  # Initially empty list for animal info\n",
    "\n",
    "# Load the list from the file\n",
    "with open('Feature CSV/animal_info_list.pkl', 'rb') as f:\n",
    "    animal_info_list = pickle.load(f)\n",
    "\n",
    "# Function to download image from Google Drive\n",
    "def download_image_from_drive(drive_url):\n",
    "    # Convert Google Drive link to direct download link\n",
    "    #https://drive.google.com/open?id=1KJ6kpya6UzhxteN-kIhg6mITvk_ekBnj\n",
    "    file_id = drive_url.split('=')[1]\n",
    "    direct_link = f'https://drive.google.com/uc?id={file_id}'\n",
    "    output_path = f'Test Images/Registered Cows/{file_id}.jpg'  # Save as a JPEG file (or appropriate format)\n",
    "    gdown.download(direct_link, output_path, quiet=False)\n",
    "    return output_path\n",
    "\n",
    "# Function to add a new animal to the known list\n",
    "def add_animal(drive_links, name, owner, refnum):\n",
    "    # Download images and extract features\n",
    "    features_list = []\n",
    "    for link in drive_links:\n",
    "        image_path = download_image_from_drive(link)  # Download image\n",
    "        features_list.append(extract_features(image_path))  # Extract features\n",
    "        \n",
    "    avg_features = np.mean(features_list, axis=0)  # Average the features\n",
    "    \n",
    "    # Update the known features list\n",
    "    global known_animal_features\n",
    "    if known_animal_features.size == 0:\n",
    "        known_animal_features = avg_features\n",
    "    else:\n",
    "        known_animal_features = np.vstack((known_animal_features, avg_features))\n",
    "    \n",
    "    # Update the animal information list\n",
    "    animal_info_list.append({\n",
    "        'name': name,\n",
    "        'owner': owner,\n",
    "        'refnum' : refnum\n",
    "    })\n",
    "    print(f\"Added animal: {name}, Owner: {owner}, Reference Number: {refnum}\")"
   ]
  },
  {
   "cell_type": "code",
   "execution_count": 14,
   "metadata": {},
   "outputs": [
    {
     "name": "stdout",
     "output_type": "stream",
     "text": [
      "Found 'REF20241101030520' at row: 13\n"
     ]
    }
   ],
   "source": [
    "#Write Python Code to Access Google Sheets\n",
    "#Import Libraries and Set Up Authentication:\n",
    "import gspread\n",
    "from oauth2client.service_account import ServiceAccountCredentials\n",
    "\n",
    "#Set Up the Google Sheets API Client:\n",
    "\n",
    "# Define the scope\n",
    "scope = ['https://spreadsheets.google.com/feeds', 'https://www.googleapis.com/auth/drive']\n",
    "\n",
    "# Load the service account credentials\n",
    "creds = ServiceAccountCredentials.from_json_keyfile_name('D:/5 th Semester/Image Processing and Machine Vision/Project/Google Cloud Console/animal-re-identification-ae729ae62110.json', scope)\n",
    "\n",
    "# Authorize the client\n",
    "client = gspread.authorize(creds)\n",
    "\n",
    "#Open the Google Sheet:\n",
    "# Open the sheet by name or by URL\n",
    "sheet = client.open(\"Cow Re-Identification\").sheet1  # Use .sheet1 to access the first sheet\n",
    "\n",
    "# Define the column to search (e.g., Column A corresponds to index 1)\n",
    "column_index = 2  # Adjust for the column you want to search\n",
    "search_value = input(\"Enter your reference number: \")  # Replace with the content you're searching for\n",
    "\n",
    "# Get all values in the specified column\n",
    "column_values = sheet.col_values(column_index)\n",
    "\n",
    "# Search for the value and get the row index\n",
    "try:\n",
    "    row_index = column_values.index(search_value) + 1  # Adding 1 because list indices start at 0\n",
    "    print(f\"Found '{search_value}' at row: {row_index}\")\n",
    "except ValueError:\n",
    "    print(f\"'{search_value}' not found in column {column_index}.\")\n",
    "\n",
    "\n",
    "\n",
    "cell_value = sheet.cell(row_index, 6).value\n",
    "# Split the string into a list using the comma as a separator\n",
    "new_animal_links = cell_value.split(\", \")\n",
    "\n",
    "name = sheet.cell(row_index, 5).value\n",
    "owner = sheet.cell(row_index, 3).value\n",
    "ref = sheet.cell(row_index, 2).value"
   ]
  },
  {
   "cell_type": "code",
   "execution_count": 15,
   "metadata": {},
   "outputs": [
    {
     "name": "stderr",
     "output_type": "stream",
     "text": [
      "Downloading...\n",
      "From: https://drive.google.com/uc?id=1NI6yeCi1tQFmzVwTFiV-B9G7I94MuraQ\n",
      "To: d:\\5 th Semester\\Image Processing and Machine Vision\\Project\\VSCode\\Test Images\\Registered Cows\\1NI6yeCi1tQFmzVwTFiV-B9G7I94MuraQ.jpg\n",
      "100%|██████████| 13.3k/13.3k [00:00<00:00, 1.11MB/s]\n",
      "Downloading...\n",
      "From: https://drive.google.com/uc?id=1Rw2HssIg-qZv1-iewb4UIBdCFa9JRNf_\n",
      "To: d:\\5 th Semester\\Image Processing and Machine Vision\\Project\\VSCode\\Test Images\\Registered Cows\\1Rw2HssIg-qZv1-iewb4UIBdCFa9JRNf_.jpg\n",
      "100%|██████████| 12.8k/12.8k [00:00<00:00, 439kB/s]\n",
      "Downloading...\n",
      "From: https://drive.google.com/uc?id=1KPzQBZKAz3YX62HTzek6EsH2tYzGpOww\n",
      "To: d:\\5 th Semester\\Image Processing and Machine Vision\\Project\\VSCode\\Test Images\\Registered Cows\\1KPzQBZKAz3YX62HTzek6EsH2tYzGpOww.jpg\n",
      "100%|██████████| 13.7k/13.7k [00:00<00:00, 511kB/s]\n"
     ]
    },
    {
     "name": "stdout",
     "output_type": "stream",
     "text": [
      "Added animal: sudu bole, Owner: rajitha, Reference Number: REF20241101030520\n"
     ]
    }
   ],
   "source": [
    "add_animal(new_animal_links, name, owner, ref)"
   ]
  },
  {
   "cell_type": "code",
   "execution_count": 16,
   "metadata": {},
   "outputs": [
    {
     "name": "stdout",
     "output_type": "stream",
     "text": [
      "Your Cow Regisrtation is Sucessfull...\n"
     ]
    }
   ],
   "source": [
    "# Save the array to a file\n",
    "np.save('Feature CSV/known_animal_features.npy', known_animal_features)\n",
    "\n",
    "# Save the list to a file\n",
    "with open('Feature CSV/animal_info_list.pkl', 'wb') as f:\n",
    "    pickle.dump(animal_info_list, f)\n",
    "\n",
    "print('Your Cow Regisrtation is Sucessfull...')"
   ]
  },
  {
   "cell_type": "code",
   "execution_count": 17,
   "metadata": {},
   "outputs": [
    {
     "data": {
      "text/plain": [
       "[{'name': 'Cow1', 'owner': 'Owner1', 'refnum': 'REF20241101025753'},\n",
       " {'name': 'Cow2', 'owner': 'Owner2', 'refnum': 'REF20241101025753'},\n",
       " {'name': 'Cow3', 'owner': 'Owner3', 'refnum': 'REF20241101025754'},\n",
       " {'name': 'Cow4', 'owner': 'Owner4', 'refnum': 'REF20241101025754'},\n",
       " {'name': 'Cow5', 'owner': 'Owner5', 'refnum': 'REF20241101025755'},\n",
       " {'name': 'Cow6', 'owner': 'Owner6', 'refnum': 'REF20241101025755'},\n",
       " {'name': 'Cow7', 'owner': 'Owner7', 'refnum': 'REF20241101025756'},\n",
       " {'name': 'Cow8', 'owner': 'Owner8', 'refnum': 'REF20241101025756'},\n",
       " {'name': 'Cow9', 'owner': 'Owner9', 'refnum': 'REF20241101025756'},\n",
       " {'name': 'Cow10', 'owner': 'Owner10', 'refnum': 'REF20241101025757'},\n",
       " {'name': 'Cow11', 'owner': 'Owner11', 'refnum': 'REF20241101025757'},\n",
       " {'name': 'Cow12', 'owner': 'Owner12', 'refnum': 'REF20241101025758'},\n",
       " {'name': 'Cow13', 'owner': 'Owner13', 'refnum': 'REF20241101025758'},\n",
       " {'name': 'Cow14', 'owner': 'Owner14', 'refnum': 'REF20241101025758'},\n",
       " {'name': 'Cow15', 'owner': 'Owner15', 'refnum': 'REF20241101025759'},\n",
       " {'name': 'Cow16', 'owner': 'Owner16', 'refnum': 'REF20241101025759'},\n",
       " {'name': 'Cow17', 'owner': 'Owner17', 'refnum': 'REF20241101025759'},\n",
       " {'name': 'Cow18', 'owner': 'Owner18', 'refnum': 'REF20241101025800'},\n",
       " {'name': 'Cow19', 'owner': 'Owner19', 'refnum': 'REF20241101025800'},\n",
       " {'name': 'Cow20', 'owner': 'Owner20', 'refnum': 'REF20241101025801'},\n",
       " {'name': 'sudu bole', 'owner': 'rajitha', 'refnum': 'REF20241101030520'}]"
      ]
     },
     "execution_count": 17,
     "metadata": {},
     "output_type": "execute_result"
    }
   ],
   "source": [
    "animal_info_list"
   ]
  },
  {
   "cell_type": "code",
   "execution_count": 18,
   "metadata": {},
   "outputs": [
    {
     "data": {
      "text/plain": [
       "array([[ 1.1217699 , -0.80727017, -0.8778561 , ...,  0.33539724,\n",
       "         0.33733416, -0.6903277 ],\n",
       "       [-0.3556577 ,  0.23135921, -0.97671974, ...,  0.22593367,\n",
       "        -0.17270733, -0.14490801],\n",
       "       [-0.69485575, -0.00336988, -1.3154159 , ..., -0.13916734,\n",
       "        -0.93398297,  0.45561332],\n",
       "       ...,\n",
       "       [ 0.28213277,  0.1749321 ,  0.3835701 , ..., -0.12589172,\n",
       "        -0.8295989 , -0.46162826],\n",
       "       [ 0.33462918, -0.14854613,  0.2095261 , ...,  0.27881727,\n",
       "        -0.8642615 ,  0.7370751 ],\n",
       "       [ 0.64142776,  0.14083576,  0.5871874 , ..., -1.5540795 ,\n",
       "        -0.6439807 , -0.4027427 ]], dtype=float32)"
      ]
     },
     "execution_count": 18,
     "metadata": {},
     "output_type": "execute_result"
    }
   ],
   "source": [
    "known_animal_features"
   ]
  }
 ],
 "metadata": {
  "kernelspec": {
   "display_name": "tfodj",
   "language": "python",
   "name": "tfodj"
  },
  "language_info": {
   "codemirror_mode": {
    "name": "ipython",
    "version": 3
   },
   "file_extension": ".py",
   "mimetype": "text/x-python",
   "name": "python",
   "nbconvert_exporter": "python",
   "pygments_lexer": "ipython3",
   "version": "3.10.5"
  }
 },
 "nbformat": 4,
 "nbformat_minor": 2
}
