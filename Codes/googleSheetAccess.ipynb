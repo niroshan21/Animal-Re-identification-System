{
 "cells": [
  {
   "cell_type": "code",
   "execution_count": 1,
   "metadata": {},
   "outputs": [
    {
     "name": "stdout",
     "output_type": "stream",
     "text": [
      "Requirement already satisfied: gspread in c:\\users\\nraji\\tfod\\lib\\site-packages (6.1.2)\n",
      "Requirement already satisfied: oauth2client in c:\\users\\nraji\\tfod\\lib\\site-packages (4.1.3)\n",
      "Requirement already satisfied: google-auth>=1.12.0 in c:\\users\\nraji\\tfod\\lib\\site-packages (from gspread) (2.35.0)\n",
      "Requirement already satisfied: google-auth-oauthlib>=0.4.1 in c:\\users\\nraji\\tfod\\lib\\site-packages (from gspread) (1.2.1)\n",
      "Requirement already satisfied: httplib2>=0.9.1 in c:\\users\\nraji\\tfod\\lib\\site-packages (from oauth2client) (0.22.0)\n",
      "Requirement already satisfied: pyasn1>=0.1.7 in c:\\users\\nraji\\tfod\\lib\\site-packages (from oauth2client) (0.6.1)\n",
      "Requirement already satisfied: pyasn1-modules>=0.0.5 in c:\\users\\nraji\\tfod\\lib\\site-packages (from oauth2client) (0.4.1)\n",
      "Requirement already satisfied: rsa>=3.1.4 in c:\\users\\nraji\\tfod\\lib\\site-packages (from oauth2client) (4.9)\n",
      "Requirement already satisfied: six>=1.6.1 in c:\\users\\nraji\\tfod\\lib\\site-packages (from oauth2client) (1.16.0)\n",
      "Requirement already satisfied: cachetools<6.0,>=2.0.0 in c:\\users\\nraji\\tfod\\lib\\site-packages (from google-auth>=1.12.0->gspread) (5.5.0)\n",
      "Requirement already satisfied: requests-oauthlib>=0.7.0 in c:\\users\\nraji\\tfod\\lib\\site-packages (from google-auth-oauthlib>=0.4.1->gspread) (2.0.0)\n",
      "Requirement already satisfied: pyparsing!=3.0.0,!=3.0.1,!=3.0.2,!=3.0.3,<4,>=2.4.2 in c:\\users\\nraji\\tfod\\lib\\site-packages (from httplib2>=0.9.1->oauth2client) (3.1.2)\n",
      "Requirement already satisfied: oauthlib>=3.0.0 in c:\\users\\nraji\\tfod\\lib\\site-packages (from requests-oauthlib>=0.7.0->google-auth-oauthlib>=0.4.1->gspread) (3.2.2)\n",
      "Requirement already satisfied: requests>=2.0.0 in c:\\users\\nraji\\tfod\\lib\\site-packages (from requests-oauthlib>=0.7.0->google-auth-oauthlib>=0.4.1->gspread) (2.31.0)\n",
      "Requirement already satisfied: charset-normalizer<4,>=2 in c:\\users\\nraji\\tfod\\lib\\site-packages (from requests>=2.0.0->requests-oauthlib>=0.7.0->google-auth-oauthlib>=0.4.1->gspread) (3.3.2)\n",
      "Requirement already satisfied: idna<4,>=2.5 in c:\\users\\nraji\\tfod\\lib\\site-packages (from requests>=2.0.0->requests-oauthlib>=0.7.0->google-auth-oauthlib>=0.4.1->gspread) (3.6)\n",
      "Requirement already satisfied: urllib3<3,>=1.21.1 in c:\\users\\nraji\\tfod\\lib\\site-packages (from requests>=2.0.0->requests-oauthlib>=0.7.0->google-auth-oauthlib>=0.4.1->gspread) (2.2.1)\n",
      "Requirement already satisfied: certifi>=2017.4.17 in c:\\users\\nraji\\tfod\\lib\\site-packages (from requests>=2.0.0->requests-oauthlib>=0.7.0->google-auth-oauthlib>=0.4.1->gspread) (2024.2.2)\n"
     ]
    },
    {
     "name": "stderr",
     "output_type": "stream",
     "text": [
      "\n",
      "[notice] A new release of pip is available: 24.0 -> 24.2\n",
      "[notice] To update, run: python.exe -m pip install --upgrade pip\n"
     ]
    }
   ],
   "source": [
    "!pip install gspread oauth2client\n"
   ]
  },
  {
   "cell_type": "code",
   "execution_count": 2,
   "metadata": {},
   "outputs": [],
   "source": [
    "#Write Python Code to Access Google Sheets\n",
    "#Import Libraries and Set Up Authentication:\n",
    "import gspread\n",
    "from oauth2client.service_account import ServiceAccountCredentials"
   ]
  },
  {
   "cell_type": "code",
   "execution_count": 3,
   "metadata": {},
   "outputs": [],
   "source": [
    "#Set Up the Google Sheets API Client:\n",
    "\n",
    "# Define the scope\n",
    "scope = ['https://spreadsheets.google.com/feeds', 'https://www.googleapis.com/auth/drive']\n",
    "\n",
    "# Load the service account credentials\n",
    "creds = ServiceAccountCredentials.from_json_keyfile_name('D:/5 th Semester/Image Processing and Machine Vision/Project/Google Cloud Console/animal-re-identification-ae729ae62110.json', scope)\n",
    "\n",
    "# Authorize the client\n",
    "client = gspread.authorize(creds)\n",
    "\n"
   ]
  },
  {
   "cell_type": "code",
   "execution_count": 4,
   "metadata": {},
   "outputs": [],
   "source": [
    "#Open the Google Sheet:\n",
    "# Open the sheet by name or by URL\n",
    "sheet = client.open(\"Cow Re-Identification\").sheet1  # Use .sheet1 to access the first sheet\n"
   ]
  },
  {
   "cell_type": "code",
   "execution_count": 5,
   "metadata": {},
   "outputs": [],
   "source": [
    "#Read Data from the Sheet:\n",
    "# Get all data from the sheet as a list of lists\n",
    "data = sheet.get_all_values()\n",
    "\n",
    "# Get specific data (e.g., a cell, a row, or a column)\n",
    "cell_value = sheet.cell(1, 1).value  # Get the value from row 1, column 1\n",
    "row_values = sheet.row_values(1)     # Get all values from the first row\n",
    "col_values = sheet.col_values(1)     # Get all values from the first column\n",
    "\n"
   ]
  },
  {
   "cell_type": "code",
   "execution_count": 6,
   "metadata": {},
   "outputs": [
    {
     "name": "stdout",
     "output_type": "stream",
     "text": [
      "[['Timestamp', 'Reference Number', \"Owner's Name\", \"Owner's National ID Number\", 'Cow Name', 'Front', 'Top', 'Left Side', 'Right Side', 'Email'], ['9/21/2024 4:38:09', 'REF20240921043811', 'Rajitha Niroshan', '200020202390', 'Raththi', 'https://drive.google.com/open?id=134kkPK08t3xqumnxavdL09rQO7Mp7rbw, https://drive.google.com/open?id=1l3y3LY6pELYYxSf7zlIkD_Kaf07fwPtj', 'https://drive.google.com/open?id=1Jhv4Xxm2A3fGLkkBhc7WWN9FCVI4bVWn', 'https://drive.google.com/open?id=13pRhHXYFUjSZFBTVimWhgumjNm6BryJN', 'https://drive.google.com/open?id=1o2zP_jT9uyT00JfYfZyvvcQQfLfYL8Fv', 'nrajitha78@gmail.com'], ['', '', '', '', '', '', '', '', '', ''], ['', '', '', '', '', '', '', '', '', ''], ['', '', '', '', '', '', '', '', '', ''], ['', '', '', '', '', '', '', '', '', ''], ['', '', '', '', '', '', '', '', '', ''], ['9/21/2024 5:31:15', 'REF20240921053116', 'Rajitha Niroshan', '200020202393', 'Konda Suddi', 'https://drive.google.com/open?id=1KJ6kpya6UzhxteN-kIhg6mITvk_ekBnj, https://drive.google.com/open?id=1YnBCCfXmtS6scVR3vR9JfdIGs_NqJ0ZL', 'https://drive.google.com/open?id=1BIbfV_0XCbP77EyNvVbiyrAUJdO5jlWv, https://drive.google.com/open?id=13feVA2zpSaz-NUSOuB-YHy2FeGpEMmgE', 'https://drive.google.com/open?id=1uCX6RS57evJdViRbnH8Gf6_lcTEUDhch, https://drive.google.com/open?id=11UAg5ynh4vAcXIimE0dzGLPzLDIowbu4', 'https://drive.google.com/open?id=12RmBIp1z-sQLMs4kuAR2CYEJb0_fH3MV, https://drive.google.com/open?id=1R8Yt05vx8E0Zw46FU9rlJdk_ehE2NUOm', 'nrajitha78@gmail.com'], ['9/25/2024 21:07:38', 'REF20240925210740', 'Niroshan', '200020202369', 'Shashi', '', '', '', '', 'nrajitha78@gmail.com']]\n"
     ]
    }
   ],
   "source": [
    "print(data)"
   ]
  },
  {
   "cell_type": "code",
   "execution_count": 7,
   "metadata": {},
   "outputs": [
    {
     "name": "stdout",
     "output_type": "stream",
     "text": [
      "Timestamp\n"
     ]
    }
   ],
   "source": [
    "print(cell_value)"
   ]
  },
  {
   "cell_type": "code",
   "execution_count": 8,
   "metadata": {},
   "outputs": [
    {
     "name": "stdout",
     "output_type": "stream",
     "text": [
      "['Timestamp', 'Reference Number', \"Owner's Name\", \"Owner's National ID Number\", 'Cow Name', 'Front', 'Top', 'Left Side', 'Right Side', 'Email']\n"
     ]
    }
   ],
   "source": [
    "print(row_values)"
   ]
  },
  {
   "cell_type": "code",
   "execution_count": 9,
   "metadata": {},
   "outputs": [
    {
     "name": "stdout",
     "output_type": "stream",
     "text": [
      "['Timestamp', '9/21/2024 4:38:09', '', '', '', '', '', '9/21/2024 5:31:15', '9/25/2024 21:07:38']\n"
     ]
    }
   ],
   "source": [
    "print(col_values)"
   ]
  },
  {
   "cell_type": "code",
   "execution_count": 10,
   "metadata": {},
   "outputs": [
    {
     "name": "stdout",
     "output_type": "stream",
     "text": [
      "Found 'REF20240921053116' at row: 8\n"
     ]
    }
   ],
   "source": [
    "# Define the column to search (e.g., Column A corresponds to index 1)\n",
    "column_index = 2  # Adjust for the column you want to search\n",
    "search_value = input(\"Enter your reference number: \")  # Replace with the content you're searching for\n",
    "\n",
    "# Get all values in the specified column\n",
    "column_values = sheet.col_values(column_index)\n",
    "\n",
    "# Search for the value and get the row index\n",
    "try:\n",
    "    row_index = column_values.index(search_value) + 1  # Adding 1 because list indices start at 0\n",
    "    print(f\"Found '{search_value}' at row: {row_index}\")\n",
    "except ValueError:\n",
    "    print(f\"'{search_value}' not found in column {column_index}.\")"
   ]
  },
  {
   "cell_type": "code",
   "execution_count": 11,
   "metadata": {},
   "outputs": [
    {
     "name": "stdout",
     "output_type": "stream",
     "text": [
      "https://drive.google.com/open?id=1KJ6kpya6UzhxteN-kIhg6mITvk_ekBnj, https://drive.google.com/open?id=1YnBCCfXmtS6scVR3vR9JfdIGs_NqJ0ZL\n",
      "<class 'str'>\n"
     ]
    }
   ],
   "source": [
    "cell_value = sheet.cell(row_index, 6).value\n",
    "print(cell_value)\n",
    "print(type(cell_value))"
   ]
  },
  {
   "cell_type": "code",
   "execution_count": 12,
   "metadata": {},
   "outputs": [
    {
     "name": "stdout",
     "output_type": "stream",
     "text": [
      "['https://drive.google.com/open?id=1KJ6kpya6UzhxteN-kIhg6mITvk_ekBnj', 'https://drive.google.com/open?id=1YnBCCfXmtS6scVR3vR9JfdIGs_NqJ0ZL']\n",
      "<class 'list'>\n"
     ]
    }
   ],
   "source": [
    "# Split the string into a list using the comma as a separator\n",
    "links_list = cell_value.split(\", \")\n",
    "\n",
    "# Print the list of links\n",
    "print(links_list)\n",
    "print(type(links_list))  # This will show that it's now a list"
   ]
  }
 ],
 "metadata": {
  "kernelspec": {
   "display_name": "tfodj",
   "language": "python",
   "name": "tfodj"
  },
  "language_info": {
   "codemirror_mode": {
    "name": "ipython",
    "version": 3
   },
   "file_extension": ".py",
   "mimetype": "text/x-python",
   "name": "python",
   "nbconvert_exporter": "python",
   "pygments_lexer": "ipython3",
   "version": "3.10.5"
  }
 },
 "nbformat": 4,
 "nbformat_minor": 2
}
