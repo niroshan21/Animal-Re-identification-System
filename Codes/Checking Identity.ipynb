{
 "cells": [
  {
   "cell_type": "code",
   "execution_count": 101,
   "metadata": {},
   "outputs": [],
   "source": [
    "import timm\n",
    "import torch\n",
    "import torchvision.transforms as T\n",
    "import numpy as np\n",
    "from PIL import Image\n",
    "from sklearn.metrics.pairwise import cosine_similarity\n",
    "import gdown\n",
    "import os\n",
    "import pickle"
   ]
  },
  {
   "cell_type": "code",
   "execution_count": 102,
   "metadata": {},
   "outputs": [],
   "source": [
    "# Load the pre-trained animal re-identification model\n",
    "model = timm.create_model(\"hf-hub:BVRA/MegaDescriptor-S-224\", pretrained=True)\n",
    "model = model.eval()  # Set the model to evaluation mode\n",
    "\n",
    "# Define the transformation pipeline for input images\n",
    "train_transforms = T.Compose([\n",
    "    T.Resize((224, 224)), \n",
    "    T.ToTensor(), \n",
    "    T.Normalize([0.5, 0.5, 0.5], [0.5, 0.5, 0.5])\n",
    "])\n",
    "\n",
    "# Function to extract features from an image file path\n",
    "def extract_features(image_path):\n",
    "    img = Image.open(image_path)  # Load image from file path\n",
    "    img_transformed = train_transforms(img)  # Apply transformations\n",
    "    img_features = model(img_transformed.unsqueeze(0))  # Extract features\n",
    "    return img_features.detach().numpy()  # Convert to numpy array\n",
    "\n",
    "\n",
    "# Function to identify the animal from a new image file path\n",
    "\n",
    "def identify_animal(image_path):\n",
    "    # Extract features from the new image\n",
    "    input_features = extract_features(image_path)\n",
    "    \n",
    "    # Compute cosine similarity with known animals\n",
    "    similarity_scores = cosine_similarity(input_features, known_animal_features)\n",
    "    \n",
    "    # Find the best match\n",
    "    best_match_index = np.argmax(similarity_scores)\n",
    "    best_match_info = animal_info_list[best_match_index]\n",
    "    \n",
    "    if similarity_scores[0][best_match_index] > 0.5:\n",
    "        print(f\"Best match is {best_match_info['name']} owned by {best_match_info['owner']}\")\n",
    "    else:\n",
    "        print(\"No match found\")\n",
    "    return similarity_scores"
   ]
  },
  {
   "cell_type": "code",
   "execution_count": 103,
   "metadata": {},
   "outputs": [],
   "source": [
    "#Load known animal features\n",
    "known_animal_features = np.load('Feature CSV/known_animal_features.npy')\n",
    "\n",
    "#Load animal information list\n",
    "# Load the list from the file\n",
    "with open('Feature CSV/animal_info_list.pkl', 'rb') as f:\n",
    "    animal_info_list = pickle.load(f)"
   ]
  },
  {
   "cell_type": "code",
   "execution_count": 104,
   "metadata": {},
   "outputs": [
    {
     "name": "stdout",
     "output_type": "stream",
     "text": [
      "No match found\n",
      "[[ 0.00453264  0.01984526 -0.00555325 -0.05107931 -0.02877082 -0.05936538\n",
      "  -0.03763704 -0.03151459 -0.03384126  0.01562964 -0.04116432 -0.03892959\n",
      "  -0.00701609 -0.06114295 -0.09962724 -0.06351233  0.03688464 -0.02119916\n",
      "  -0.09962724 -0.02119916 -0.04227423]]\n"
     ]
    }
   ],
   "source": [
    "# Example usage: Identify an animal from a new image on the PC\n",
    "test_image = r\"D:\\\\5 th Semester\\\\Image Processing and Machine Vision\\\\Project\\\\VSCode\\\\data\\\\AerialCattle2017\\\\3owflku95bxsx24643cybxu3qh\\\\15\\\\2\\\\28055.jpg\"\n",
    "s_score = identify_animal(test_image)\n",
    "print(s_score)"
   ]
  },
  {
   "cell_type": "code",
   "execution_count": 105,
   "metadata": {},
   "outputs": [
    {
     "name": "stdout",
     "output_type": "stream",
     "text": [
      "Best match is Cow7 owned by Owner7\n",
      "[[ 0.15420811  0.3267731   0.4707123   0.5825171   0.31589562  0.36723173\n",
      "   0.9076407   0.502527    0.43724495  0.21346626  0.24372128  0.2906778\n",
      "   0.31423265  0.6469665   0.3997342   0.11316493  0.21636795  0.51796615\n",
      "   0.3997342   0.51796615 -0.08407757]]\n"
     ]
    }
   ],
   "source": [
    "# Example usage: Identify an animal from a new image on the PC\n",
    "k = 7\n",
    "test_image = f\"data/Cows - Testing/Cow{k}/Cow{k}_3.png\"\n",
    "s_score = identify_animal(test_image)\n",
    "print(s_score)"
   ]
  },
  {
   "cell_type": "code",
   "execution_count": 106,
   "metadata": {},
   "outputs": [
    {
     "name": "stdout",
     "output_type": "stream",
     "text": [
      "Best match is Cow7 owned by Owner7\n",
      "[[ 0.20416951  0.4752298   0.3624271   0.4612834   0.27151185  0.33055657\n",
      "   0.5651646   0.35444692  0.34644455  0.2333938   0.28190362  0.3910383\n",
      "   0.2669896   0.48548174  0.42032355  0.15276179  0.18936065  0.33649436\n",
      "   0.42032355  0.33649436 -0.0547656 ]]\n"
     ]
    }
   ],
   "source": [
    "# Example usage: Identify an animal from a new image on the PC\n",
    "k = 7\n",
    "test_image = f\"data/Cows - Testing/Cow{k}/Cow{k}_6.png\"\n",
    "s_score = identify_animal(test_image)\n",
    "print(s_score)"
   ]
  },
  {
   "cell_type": "code",
   "execution_count": 107,
   "metadata": {},
   "outputs": [
    {
     "name": "stdout",
     "output_type": "stream",
     "text": [
      "Best match is Cow7 owned by Owner7\n",
      "[[ 0.12967753  0.38676107  0.5060101   0.64703983  0.38820893  0.47996554\n",
      "   0.6871922   0.61258996  0.54417014  0.22893682  0.3767686   0.33212426\n",
      "   0.34891385  0.64822054  0.3399661   0.1641002   0.2980696   0.5452177\n",
      "   0.3399661   0.5452177  -0.05385454]]\n"
     ]
    }
   ],
   "source": [
    "# Example usage: Identify an animal from a new image on the PC\n",
    "k = 7\n",
    "test_image = f\"data/Cows - Testing/Cow{k}/Cow{k}_7.png\"\n",
    "s_score = identify_animal(test_image)\n",
    "print(s_score)"
   ]
  },
  {
   "cell_type": "code",
   "execution_count": 108,
   "metadata": {},
   "outputs": [
    {
     "name": "stdout",
     "output_type": "stream",
     "text": [
      "Best match is Cow1 owned by Owner1\n",
      "Correct\n",
      "Best match is Cow1 owned by Owner1\n",
      "Correct\n",
      "Best match is Cow2 owned by Owner2\n",
      "Correct\n",
      "Best match is Cow2 owned by Owner2\n",
      "Correct\n",
      "Best match is Cow3 owned by Owner3\n",
      "Correct\n",
      "Best match is Cow14 owned by Owner14\n",
      "Incorrect, This is cow3\n",
      "Best match is Cow4 owned by Owner4\n",
      "Correct\n",
      "Best match is Cow4 owned by Owner4\n",
      "Correct\n",
      "Best match is Cow5 owned by Owner5\n",
      "Correct\n",
      "Best match is Cow5 owned by Owner5\n",
      "Correct\n",
      "Best match is Cow6 owned by Owner6\n",
      "Correct\n",
      "Best match is Cow6 owned by Owner6\n",
      "Correct\n",
      "Best match is Cow7 owned by Owner7\n",
      "Correct\n",
      "Best match is Cow7 owned by Owner7\n",
      "Correct\n",
      "Best match is Cow8 owned by Owner8\n",
      "Correct\n",
      "Best match is Cow8 owned by Owner8\n",
      "Correct\n",
      "Best match is Cow9 owned by Owner9\n",
      "Correct\n",
      "Best match is Cow9 owned by Owner9\n",
      "Correct\n",
      "Best match is Cow10 owned by Owner10\n",
      "Correct\n",
      "Best match is Cow10 owned by Owner10\n",
      "Correct\n",
      "Best match is Cow11 owned by Owner11\n",
      "Correct\n",
      "Best match is Cow11 owned by Owner11\n",
      "Correct\n",
      "Best match is Cow12 owned by Owner12\n",
      "Correct\n",
      "Best match is Cow12 owned by Owner12\n",
      "Correct\n",
      "Best match is Cow13 owned by Owner13\n",
      "Correct\n",
      "Best match is Cow13 owned by Owner13\n",
      "Correct\n",
      "Best match is Cow14 owned by Owner14\n",
      "Correct\n",
      "Best match is Cow14 owned by Owner14\n",
      "Correct\n",
      "Best match is Cow15 owned by Owner15\n",
      "Correct\n",
      "Best match is Cow15 owned by Owner15\n",
      "Correct\n",
      "Best match is Cow16 owned by Owner16\n",
      "Correct\n",
      "Best match is Cow16 owned by Owner16\n",
      "Correct\n",
      "Best match is Cow17 owned by Owner17\n",
      "Correct\n",
      "Best match is Cow17 owned by Owner17\n",
      "Correct\n",
      "Best match is Cow18 owned by Owner18\n",
      "Correct\n",
      "Best match is Cow18 owned by Owner18\n",
      "Correct\n",
      "Accuracy: 0.9722222222222222\n"
     ]
    }
   ],
   "source": [
    "# Find accuracy of the model\n",
    "correct = 0\n",
    "total = 0\n",
    "\n",
    "for i in range(1, 19):\n",
    "    for j in range(3, 5):\n",
    "        test_image = f\"data/Cows - Testing/Cow{i}/Cow{i}_{j}.png\"\n",
    "        s_score = identify_animal(test_image)\n",
    "\n",
    "        # find the index of maximum s_score\n",
    "        index = np.argmax(s_score[0])\n",
    "        if index == i - 1 and s_score[0][index] > 0.5:\n",
    "            correct += 1\n",
    "            print(\"Correct\")\n",
    "        else:\n",
    "            print(f\"Incorrect, This is cow{i}\")\n",
    "        total += 1\n",
    "\n",
    "\n",
    "print(f\"Accuracy: {correct/total}\")"
   ]
  }
 ],
 "metadata": {
  "kernelspec": {
   "display_name": "tfodj",
   "language": "python",
   "name": "tfodj"
  },
  "language_info": {
   "codemirror_mode": {
    "name": "ipython",
    "version": 3
   },
   "file_extension": ".py",
   "mimetype": "text/x-python",
   "name": "python",
   "nbconvert_exporter": "python",
   "pygments_lexer": "ipython3",
   "version": "3.10.5"
  }
 },
 "nbformat": 4,
 "nbformat_minor": 2
}
