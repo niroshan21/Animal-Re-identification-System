{
 "cells": [
  {
   "cell_type": "code",
   "execution_count": 16,
   "metadata": {},
   "outputs": [],
   "source": [
    "import timm\n",
    "import torch\n",
    "import torchvision.transforms as T\n",
    "import numpy as np\n",
    "from PIL import Image\n",
    "from sklearn.metrics.pairwise import cosine_similarity\n",
    "import gdown\n",
    "import os\n",
    "import pickle"
   ]
  },
  {
   "cell_type": "code",
   "execution_count": 17,
   "metadata": {},
   "outputs": [],
   "source": [
    "# Load the pre-trained animal re-identification model\n",
    "model = timm.create_model(\"hf-hub:BVRA/MegaDescriptor-S-224\", pretrained=True)\n",
    "model = model.eval()  # Set the model to evaluation mode\n",
    "\n",
    "# Define the transformation pipeline for input images\n",
    "train_transforms = T.Compose([\n",
    "    T.Resize((224, 224)), \n",
    "    T.ToTensor(), \n",
    "    T.Normalize([0.5, 0.5, 0.5], [0.5, 0.5, 0.5])\n",
    "])\n",
    "\n",
    "# Function to extract features from an image file path\n",
    "def extract_features(image_path):\n",
    "    img = Image.open(image_path)  # Load image from file path\n",
    "    img_transformed = train_transforms(img)  # Apply transformations\n",
    "    img_features = model(img_transformed.unsqueeze(0))  # Extract features\n",
    "    return img_features.detach().numpy()  # Convert to numpy array\n",
    "\n",
    "\n",
    "# Function to identify the animal from a new image file path\n",
    "\n",
    "def identify_animal(image_path):\n",
    "    # Extract features from the new image\n",
    "    input_features = extract_features(image_path)\n",
    "    \n",
    "    # Compute cosine similarity with known animals\n",
    "    similarity_scores = cosine_similarity(input_features, known_animal_features)\n",
    "    \n",
    "    # Find the best match\n",
    "    best_match_index = np.argmax(similarity_scores)\n",
    "    best_match_info = animal_info_list[best_match_index]\n",
    "    \n",
    "    print(f\"Best match is {best_match_info['name']} owned by {best_match_info['owner']}\")"
   ]
  },
  {
   "cell_type": "code",
   "execution_count": 18,
   "metadata": {},
   "outputs": [],
   "source": [
    "#Load known animal features\n",
    "known_animal_features = np.load('Feature CSV/known_animal_features.npy')\n",
    "\n",
    "#Load animal information list\n",
    "# Load the list from the file\n",
    "with open('Feature CSV/animal_info_list.pkl', 'rb') as f:\n",
    "    animal_info_list = pickle.load(f)"
   ]
  },
  {
   "cell_type": "code",
   "execution_count": 21,
   "metadata": {},
   "outputs": [
    {
     "name": "stdout",
     "output_type": "stream",
     "text": [
      "Best match is Konda Suddi owned by Rajitha Niroshan\n"
     ]
    }
   ],
   "source": [
    "# Example usage: Identify an animal from a new image on the PC\n",
    "test_image = r'D:/5 th Semester/Image Processing and Machine Vision/Project/VSCode/Test Images/testCOW1/IMG-20240921-WA0014.jpg'  # Replace with an actual file path\n",
    "identify_animal(test_image)"
   ]
  }
 ],
 "metadata": {
  "kernelspec": {
   "display_name": "tfodj",
   "language": "python",
   "name": "tfodj"
  },
  "language_info": {
   "codemirror_mode": {
    "name": "ipython",
    "version": 3
   },
   "file_extension": ".py",
   "mimetype": "text/x-python",
   "name": "python",
   "nbconvert_exporter": "python",
   "pygments_lexer": "ipython3",
   "version": "3.10.5"
  }
 },
 "nbformat": 4,
 "nbformat_minor": 2
}
